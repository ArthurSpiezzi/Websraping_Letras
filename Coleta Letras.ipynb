{
 "cells": [
  {
   "cell_type": "code",
   "execution_count": null,
   "metadata": {},
   "outputs": [],
   "source": [
    "import pandas as pd\n",
    "import numpy as np\n",
    "from selenium import webdriver\n",
    "from selenium.webdriver.common.keys import Keys\n",
    "from bs4 import BeautifulSoup\n",
    "import time\n",
    "def Convert(string): \n",
    "    lista = list(string.split(\" \")) \n",
    "    return lista\n",
    "driver = webdriver.Firefox('C:\\Program Files\\Mozilla Firefox')\n",
    "driver.get('https://www.letras.com/mais-acessadas/reggae/')\n",
    "Conteudo = driver.page_source\n",
    "Soup = BeautifulSoup(Conteudo)\n",
    "Links = Soup.findAll(attrs={'class':'top-list_mus cnt-list--col1-3'})\n",
    "musica = 1\n",
    "time.sleep(2)\n",
    "for musica in range(1,4):\n",
    "    driver.find_element_by_xpath('''//*[@id=\"js-cnt-tops\"]/div[3]/div[1]/ol/li[''' + str(musica) + ''']/a''').click()\n",
    "    time.sleep(2)\n",
    "    Link_Clicado = driver.page_source\n",
    "    Soup = BeautifulSoup(Link_Clicado)\n",
    "    Soup.findAll(attrs={'class':'cnt-letra p402_premium'})\n",
    "    Recorte = str(Soup.findAll('p'))\n",
    "    Recorte = Recorte.replace('<p>',' ')\n",
    "    Recorte = Recorte.replace('</p>',' ')\n",
    "    Recorte = Recorte.replace('<br/>',' ')\n",
    "    Recorte = Recorte.replace(',','')\n",
    "    Recorte = Convert(Recorte)\n",
    "    i=0\n",
    "    for palavra in Recorte:\n",
    "        i = i+1\n",
    "        if palavra == '©':\n",
    "            Recorte[i-12:-1] = ''\n",
    "    Contagem = pd.DataFrame(Recorte)[0].value_counts()\n",
    "    Contagem.drop(labels=['','[',']'], inplace=True)\n",
    "    driver.get('https://www.letras.com/mais-acessadas/reggae/')\n",
    "    Letras.append(Contagem, ignore_index = True)\n",
    "    time.sleep(2) # seconds\n",
    "    del Recorte"
   ]
  }
 ],
 "metadata": {
  "kernelspec": {
   "display_name": "Python 3",
   "language": "python",
   "name": "python3"
  },
  "language_info": {
   "codemirror_mode": {
    "name": "ipython",
    "version": 3
   },
   "file_extension": ".py",
   "mimetype": "text/x-python",
   "name": "python",
   "nbconvert_exporter": "python",
   "pygments_lexer": "ipython3",
   "version": "3.7.6"
  }
 },
 "nbformat": 4,
 "nbformat_minor": 4
}
